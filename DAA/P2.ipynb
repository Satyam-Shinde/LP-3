{
 "cells": [
  {
   "cell_type": "code",
   "execution_count": 1,
   "id": "bdca861c",
   "metadata": {},
   "outputs": [
    {
     "name": "stdout",
     "output_type": "stream",
     "text": [
      "symbols: dict_keys(['A', 'B', 'C', 'D', 'E'])\n",
      "probabilities: dict_values([7, 1, 6, 2, 5])\n",
      "symbols with codes {'B': '000', 'D': '001', 'E': '01', 'C': '10', 'A': '11'}\n",
      "Space usage before compression (in bits): 168\n",
      "Space usage after compression (in bits): 45\n",
      "Encoded output 111111111111110001010101010100010010101010101\n"
     ]
    }
   ],
   "source": [
    "import heapq\n",
    "#Node structure for Huffman Tree\n",
    "class Node:\n",
    "    def __init__ (self, char, freq):\n",
    "        self.char = char\n",
    "        self.freq = freq\n",
    "        self.left = None\n",
    "        self.right = None\n",
    "    #For heapq (priority queue)\n",
    "    def __lt__ (self, other):\n",
    "        return self.freq < other.freq\n",
    "def huffman_encoding(text):\n",
    "    # Step 1: Frequency dictionary\n",
    "    freq = {}\n",
    "    for ch in text:\n",
    "        freq[ch] = freq.get(ch,0)+1\n",
    "    print(\"symbols:\", freq.keys())\n",
    "    print(\"probabilities:\", freq.values())\n",
    "    \n",
    "    # Step 2: Priority queue (min-heap)\n",
    "    heap = [Node(ch, f) for ch, f in freq.items()]\n",
    "    heapq.heapify(heap)\n",
    "    \n",
    "    # Step 3: Build Huffman Tree\n",
    "    while len(heap) > 1:\n",
    "        left = heapq.heappop(heap)\n",
    "        right = heapq.heappop(heap)\n",
    "        merged = Node(None, left.freq + right.freq)\n",
    "        merged.left = left\n",
    "        merged.right = right\n",
    "        heapq.heappush(heap, merged)\n",
    "    \n",
    "    root = heap[0]\n",
    "    \n",
    "    # Step 4: Traverse tree to get codes\n",
    "    codes = {}\n",
    "    def generate_codes(node, current=\"\"):\n",
    "        if node is None:\n",
    "            return\n",
    "        if node.char is not None: # Leaf node\n",
    "            codes[node.char] = current\n",
    "            return\n",
    "        generate_codes(node.left, current + \"0\")\n",
    "        generate_codes(node.right, current + \"1\")\n",
    "    \n",
    "    generate_codes(root)\n",
    "    \n",
    "    print(\"symbols with codes\", codes)\n",
    "    \n",
    "    # Step 5: Encode text\n",
    "    encoded_text = \"\".join(codes[ch] for ch in text)\n",
    "    \n",
    "    # Space calculation\n",
    "    before = len(text) * 8 # assuming 8 bits per char (ASCII)\n",
    "    after = len(encoded_text)\n",
    "    print(\"Space usage before compression (in bits):\", before)\n",
    "    print(\"Space usage after compression (in bits):\", after)\n",
    "    print(\"Encoded output\", encoded_text)\n",
    "    \n",
    "# Example usage\n",
    "if __name__ == \"__main__\":\n",
    "    text = \"AAAAAAABCCCCCCDDEEEEE\"\n",
    "    huffman_encoding(text)"
   ]
  }
 ],
 "metadata": {
  "kernelspec": {
   "display_name": "Python 3",
   "language": "python",
   "name": "python3"
  },
  "language_info": {
   "codemirror_mode": {
    "name": "ipython",
    "version": 3
   },
   "file_extension": ".py",
   "mimetype": "text/x-python",
   "name": "python",
   "nbconvert_exporter": "python",
   "pygments_lexer": "ipython3",
   "version": "3.10.7"
  }
 },
 "nbformat": 4,
 "nbformat_minor": 5
}
