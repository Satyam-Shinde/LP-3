{
 "cells": [
  {
   "cell_type": "code",
   "execution_count": 1,
   "id": "ef881ae0",
   "metadata": {},
   "outputs": [
    {
     "name": "stdout",
     "output_type": "stream",
     "text": [
      "220\n"
     ]
    }
   ],
   "source": [
    "def knapSack(W, wt, val, n):\n",
    "    dp = [0 for i in range(W+1)] # Making the dp array\n",
    "    \n",
    "    for i in range(1, n+1): # taking first i elements\n",
    "        # starting from back,so that we also have data of previous computation\n",
    "        for w in range(W, 0, -1):\n",
    "            # when taking i-1 items\n",
    "            if wt[i-1] <= w:\n",
    "                # finding the maximum value\n",
    "                dp[w] = max(dp[w], dp[w-wt[i-1]]+val[i-1])\n",
    "    \n",
    "    return dp[W] # returning the maximum value of knapsack\n",
    "\n",
    "#Driver code\n",
    "val = [60, 100, 120]\n",
    "wt = [10, 20, 30]\n",
    "W = 50\n",
    "n = len(val)\n",
    "print(knapSack(W, wt, val, n))"
   ]
  }
 ],
 "metadata": {
  "kernelspec": {
   "display_name": "Python 3",
   "language": "python",
   "name": "python3"
  },
  "language_info": {
   "codemirror_mode": {
    "name": "ipython",
    "version": 3
   },
   "file_extension": ".py",
   "mimetype": "text/x-python",
   "name": "python",
   "nbconvert_exporter": "python",
   "pygments_lexer": "ipython3",
   "version": "3.10.7"
  }
 },
 "nbformat": 4,
 "nbformat_minor": 5
}
