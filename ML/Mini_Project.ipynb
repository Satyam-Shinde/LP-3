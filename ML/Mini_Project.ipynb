{
 "cells": [
  {
   "cell_type": "code",
   "execution_count": null,
   "id": "e5366372",
   "metadata": {},
   "outputs": [],
   "source": [
    "import pandas as pd\n",
    "import numpy as np\n",
    "import glob\n",
    "from sklearn.model_selection import train_test_split\n",
    "from sklearn.ensemble import RandomForestRegressor\n",
    "from sklearn.metrics import mean_squared_error, r2_score\n",
    "import warnings\n",
    "warnings.filterwarnings(\"ignore\", category=UserWarning)\n",
    "files = [f for f in glob.glob(\"*.csv\") if f != \"stock_next_day_returns.csv\"]\n",
    "predictions_list = []\n",
    "for file in files:\n",
    "    stock_name = file.split(\".\")[0]\n",
    "    df = pd.read_csv(file)\n",
    "    required_cols = ['Date', 'Open', 'High', 'Low', 'Close', 'Adj Close', 'Volume']\n",
    "    if not all(col in df.columns for col in required_cols):\n",
    "        continue\n",
    "    df['Date'] = pd.to_datetime(df['Date'])\n",
    "    df.sort_values('Date', inplace=True)\n",
    "    df['Return'] = df['Close'].pct_change()\n",
    "    df['MA7'] = df['Close'].rolling(7).mean()\n",
    "    df['MA30'] = df['Close'].rolling(30).mean()\n",
    "    df.dropna(inplace=True)\n",
    "    if len(df) < 50:\n",
    "        continue\n",
    "    X = df[['Close', 'MA7', 'MA30']]\n",
    "    y = df['Return']\n",
    "    X_train, X_test, y_train, y_test = train_test_split(X, y, test_size=0.2, shuffle=False)\n",
    "    rf = RandomForestRegressor(n_estimators=100, random_state=42)\n",
    "    rf.fit(X_train, y_train)\n",
    "    y_pred = rf.predict(X_test)\n",
    "    rmse = np.sqrt(mean_squared_error(y_test, y_pred))\n",
    "    r2 = r2_score(y_test, y_pred)\n",
    "    print(f\"{stock_name} -> RMSE: {rmse:.6f}, R2: {r2:.6f}\")\n",
    "    latest_data = df[['Close', 'MA7', 'MA30']].iloc[-1:]\n",
    "    next_day_return = rf.predict(latest_data)[0]\n",
    "    predictions_list.append({\n",
    "        'Stock': stock_name,\n",
    "        'Predicted_NextDay_Return': next_day_return,\n",
    "        'RMSE': rmse,\n",
    "        'R2': r2\n",
    "    })\n",
    "predictions_df = pd.DataFrame(predictions_list)\n",
    "predictions_df.sort_values('Predicted_NextDay_Return', ascending=False, inplace=True)\n",
    "print(\"\\nPredicted Next-Day Returns for All Stocks:\")\n",
    "print(predictions_df)\n",
    "predictions_df.to_csv(\"stock_next_day_returns.csv\", index=False)\n"
   ]
  }
 ],
 "metadata": {
  "language_info": {
   "name": "python"
  }
 },
 "nbformat": 4,
 "nbformat_minor": 5
}
